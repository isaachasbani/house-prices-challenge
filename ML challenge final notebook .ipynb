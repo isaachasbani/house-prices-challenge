{
 "cells": [
  {
   "cell_type": "markdown",
   "id": "6efd0801",
   "metadata": {},
   "source": [
    "# Loading the data and basic EDA"
   ]
  },
  {
   "cell_type": "code",
   "execution_count": 526,
   "id": "95f37c9d",
   "metadata": {},
   "outputs": [],
   "source": [
    "import pandas as pd\n",
    "import numpy as np\n",
    "import matplotlib.pyplot as plt\n",
    "import seaborn as sns\n",
    "from sklearn.impute import KNNImputer\n",
    "from sklearn.impute import SimpleImputer\n",
    "from sklearn.cluster import KMeans\n",
    "\n",
    "from sklearn.linear_model import LinearRegression\n",
    "from sklearn.ensemble import RandomForestRegressor\n",
    "from sklearn.model_selection import train_test_split\n",
    "from sklearn.metrics import mean_squared_error, r2_score\n"
   ]
  },
  {
   "cell_type": "code",
   "execution_count": 527,
   "id": "d08b73cf",
   "metadata": {},
   "outputs": [
    {
     "name": "stderr",
     "output_type": "stream",
     "text": [
      "/opt/anaconda3/lib/python3.9/site-packages/IPython/core/interactiveshell.py:3444: DtypeWarning: Columns (7,9,11,13,17,18,19,22,23,24,25,26,28,29,30,32,33,34,35,36,37,38,40,41,42,43,44,45,46,47,48,49,50,51,52,53,54,55,56,57,58,59,60,61,62,63,64,65,66,67,68,69,70,71,72,74,77,80,82,83,84,85,86,87,90,91,92,95) have mixed types.Specify dtype option on import or set low_memory=False.\n",
      "  exec(code_obj, self.user_global_ns, self.user_ns)\n"
     ]
    },
    {
     "data": {
      "text/html": [
       "<div>\n",
       "<style scoped>\n",
       "    .dataframe tbody tr th:only-of-type {\n",
       "        vertical-align: middle;\n",
       "    }\n",
       "\n",
       "    .dataframe tbody tr th {\n",
       "        vertical-align: top;\n",
       "    }\n",
       "\n",
       "    .dataframe thead th {\n",
       "        text-align: right;\n",
       "    }\n",
       "</style>\n",
       "<table border=\"1\" class=\"dataframe\">\n",
       "  <thead>\n",
       "    <tr style=\"text-align: right;\">\n",
       "      <th></th>\n",
       "      <th>id</th>\n",
       "      <th>balcony</th>\n",
       "      <th>conditions</th>\n",
       "      <th>construction_year</th>\n",
       "      <th>latitude</th>\n",
       "      <th>longitude</th>\n",
       "      <th>energy_efficiency</th>\n",
       "      <th>expenses</th>\n",
       "      <th>floor</th>\n",
       "      <th>garden</th>\n",
       "      <th>n_bathrooms</th>\n",
       "      <th>elevator</th>\n",
       "      <th>total_floors</th>\n",
       "      <th>n_rooms</th>\n",
       "      <th>proximity_to_center</th>\n",
       "      <th>surface</th>\n",
       "    </tr>\n",
       "  </thead>\n",
       "  <tbody>\n",
       "    <tr>\n",
       "      <th>0</th>\n",
       "      <td>10461</td>\n",
       "      <td>True</td>\n",
       "      <td>Buono stato / Abitabile</td>\n",
       "      <td>1980.0</td>\n",
       "      <td>41.901300</td>\n",
       "      <td>12.700000</td>\n",
       "      <td>175.00</td>\n",
       "      <td>30.0</td>\n",
       "      <td>2.0</td>\n",
       "      <td>NaN</td>\n",
       "      <td>1.0</td>\n",
       "      <td>NaN</td>\n",
       "      <td>3.0</td>\n",
       "      <td>1.0</td>\n",
       "      <td>1.00000</td>\n",
       "      <td>35.0</td>\n",
       "    </tr>\n",
       "    <tr>\n",
       "      <th>1</th>\n",
       "      <td>51304</td>\n",
       "      <td>NaN</td>\n",
       "      <td>Buono stato / Abitabile</td>\n",
       "      <td>NaN</td>\n",
       "      <td>41.907017</td>\n",
       "      <td>12.481311</td>\n",
       "      <td>NaN</td>\n",
       "      <td>NaN</td>\n",
       "      <td>3.0</td>\n",
       "      <td>NaN</td>\n",
       "      <td>1.0</td>\n",
       "      <td>1.0</td>\n",
       "      <td>NaN</td>\n",
       "      <td>3.0</td>\n",
       "      <td>1.00000</td>\n",
       "      <td>131.0</td>\n",
       "    </tr>\n",
       "    <tr>\n",
       "      <th>2</th>\n",
       "      <td>33032</td>\n",
       "      <td>NaN</td>\n",
       "      <td>Buono stato / Abitabile</td>\n",
       "      <td>1960.0</td>\n",
       "      <td>41.976500</td>\n",
       "      <td>12.440500</td>\n",
       "      <td>204.20</td>\n",
       "      <td>30.0</td>\n",
       "      <td>4.0</td>\n",
       "      <td>NaN</td>\n",
       "      <td>1.0</td>\n",
       "      <td>NaN</td>\n",
       "      <td>4.0</td>\n",
       "      <td>1.0</td>\n",
       "      <td>1.00000</td>\n",
       "      <td>16.0</td>\n",
       "    </tr>\n",
       "    <tr>\n",
       "      <th>3</th>\n",
       "      <td>62281</td>\n",
       "      <td>NaN</td>\n",
       "      <td>Ottimo / Ristrutturato</td>\n",
       "      <td>NaN</td>\n",
       "      <td>45.484800</td>\n",
       "      <td>12.198200</td>\n",
       "      <td>175.00</td>\n",
       "      <td>NaN</td>\n",
       "      <td>1.0</td>\n",
       "      <td>True</td>\n",
       "      <td>1.0</td>\n",
       "      <td>NaN</td>\n",
       "      <td>1.0</td>\n",
       "      <td>2.0</td>\n",
       "      <td>0.99205</td>\n",
       "      <td>100.0</td>\n",
       "    </tr>\n",
       "    <tr>\n",
       "      <th>4</th>\n",
       "      <td>45681</td>\n",
       "      <td>True</td>\n",
       "      <td>Buono stato / Abitabile</td>\n",
       "      <td>NaN</td>\n",
       "      <td>45.424480</td>\n",
       "      <td>12.328622</td>\n",
       "      <td>65.91</td>\n",
       "      <td>NaN</td>\n",
       "      <td>3.0</td>\n",
       "      <td>NaN</td>\n",
       "      <td>2.0</td>\n",
       "      <td>1.0</td>\n",
       "      <td>NaN</td>\n",
       "      <td>3.0</td>\n",
       "      <td>1.00000</td>\n",
       "      <td>90.0</td>\n",
       "    </tr>\n",
       "  </tbody>\n",
       "</table>\n",
       "</div>"
      ],
      "text/plain": [
       "      id balcony               conditions  construction_year   latitude  \\\n",
       "0  10461    True  Buono stato / Abitabile             1980.0  41.901300   \n",
       "1  51304     NaN  Buono stato / Abitabile                NaN  41.907017   \n",
       "2  33032     NaN  Buono stato / Abitabile             1960.0  41.976500   \n",
       "3  62281     NaN   Ottimo / Ristrutturato                NaN  45.484800   \n",
       "4  45681    True  Buono stato / Abitabile                NaN  45.424480   \n",
       "\n",
       "   longitude  energy_efficiency  expenses  floor garden  n_bathrooms  \\\n",
       "0  12.700000             175.00      30.0    2.0    NaN          1.0   \n",
       "1  12.481311                NaN       NaN    3.0    NaN          1.0   \n",
       "2  12.440500             204.20      30.0    4.0    NaN          1.0   \n",
       "3  12.198200             175.00       NaN    1.0   True          1.0   \n",
       "4  12.328622              65.91       NaN    3.0    NaN          2.0   \n",
       "\n",
       "   elevator  total_floors  n_rooms  proximity_to_center  surface  \n",
       "0       NaN           3.0      1.0              1.00000     35.0  \n",
       "1       1.0           NaN      3.0              1.00000    131.0  \n",
       "2       NaN           4.0      1.0              1.00000     16.0  \n",
       "3       NaN           1.0      2.0              0.99205    100.0  \n",
       "4       1.0           NaN      3.0              1.00000     90.0  "
      ]
     },
     "execution_count": 527,
     "metadata": {},
     "output_type": "execute_result"
    }
   ],
   "source": [
    "train = pd.read_csv(\"train.csv\")\n",
    "test = pd.read_csv(\"test_updated.csv\")\n",
    "poi = pd.read_csv(\"poi.csv\")\n",
    "#data = train + test\n",
    "data = pd.concat((train, test)).reset_index(drop = True)\n",
    "data.drop(['price'], axis=1, inplace=True)\n",
    "data.head()"
   ]
  },
  {
   "cell_type": "code",
   "execution_count": 528,
   "id": "7012b5cc",
   "metadata": {},
   "outputs": [
    {
     "name": "stdout",
     "output_type": "stream",
     "text": [
      "Train shape (46312, 17)\n",
      "Test shape (19788, 16)\n"
     ]
    }
   ],
   "source": [
    "print(\"Train shape\", train.shape)\n",
    "print(\"Test shape\", test.shape)"
   ]
  },
  {
   "cell_type": "code",
   "execution_count": 529,
   "id": "c66c7cf7",
   "metadata": {},
   "outputs": [
    {
     "name": "stdout",
     "output_type": "stream",
     "text": [
      "<class 'pandas.core.frame.DataFrame'>\n",
      "RangeIndex: 46312 entries, 0 to 46311\n",
      "Data columns (total 17 columns):\n",
      " #   Column               Non-Null Count  Dtype  \n",
      "---  ------               --------------  -----  \n",
      " 0   id                   46312 non-null  int64  \n",
      " 1   price                46312 non-null  int64  \n",
      " 2   balcony              30869 non-null  object \n",
      " 3   conditions           45083 non-null  object \n",
      " 4   construction_year    32366 non-null  float64\n",
      " 5   latitude             46299 non-null  float64\n",
      " 6   longitude            46299 non-null  float64\n",
      " 7   energy_efficiency    26409 non-null  float64\n",
      " 8   expenses             30158 non-null  float64\n",
      " 9   floor                44281 non-null  float64\n",
      " 10  garden               14783 non-null  object \n",
      " 11  n_bathrooms          43896 non-null  float64\n",
      " 12  elevator             28869 non-null  float64\n",
      " 13  total_floors         27963 non-null  float64\n",
      " 14  n_rooms              45959 non-null  float64\n",
      " 15  proximity_to_center  46299 non-null  float64\n",
      " 16  surface              45869 non-null  float64\n",
      "dtypes: float64(12), int64(2), object(3)\n",
      "memory usage: 6.0+ MB\n"
     ]
    }
   ],
   "source": [
    "#get an idea of missing values, datatypes and columns of the train set\n",
    "train.info()"
   ]
  },
  {
   "cell_type": "code",
   "execution_count": 530,
   "id": "2fde4778",
   "metadata": {},
   "outputs": [
    {
     "name": "stdout",
     "output_type": "stream",
     "text": [
      "count    4.631200e+04\n",
      "mean     5.031879e+05\n",
      "std      1.106504e+06\n",
      "min      1.540000e+02\n",
      "25%      1.990000e+05\n",
      "50%      3.150000e+05\n",
      "75%      5.150000e+05\n",
      "max      7.200000e+07\n",
      "Name: price, dtype: float64\n"
     ]
    },
    {
     "name": "stderr",
     "output_type": "stream",
     "text": [
      "/opt/anaconda3/lib/python3.9/site-packages/seaborn/distributions.py:2619: FutureWarning: `distplot` is a deprecated function and will be removed in a future version. Please adapt your code to use either `displot` (a figure-level function with similar flexibility) or `histplot` (an axes-level function for histograms).\n",
      "  warnings.warn(msg, FutureWarning)\n"
     ]
    },
    {
     "name": "stdout",
     "output_type": "stream",
     "text": [
      "Skewness: 24.733627\n",
      "Kurtosis: 1012.453475\n"
     ]
    },
    {
     "data": {
      "image/png": "[encoded data removed]",
      "text/plain": [
       "<Figure size 432x288 with 1 Axes>"
      ]
     },
     "metadata": {
      "needs_background": "light"
     },
     "output_type": "display_data"
    }
   ],
   "source": [
    "#inspecting the target variable\n",
    "price = train[\"price\"]\n",
    "print(price.describe())\n",
    "sns.distplot(np.log(price))\n",
    "#skewness and kurtosis\n",
    "print(\"Skewness: %f\" % price.skew())\n",
    "print(\"Kurtosis: %f\" % price.kurt())"
   ]
  },
  {
   "cell_type": "code",
   "execution_count": 531,
   "id": "7cb6ab3d",
   "metadata": {},
   "outputs": [
    {
     "data": {
      "image/png": "[encoded data removed]",
      "text/plain": [
       "<Figure size 1080x576 with 2 Axes>"
      ]
     },
     "metadata": {
      "needs_background": "light"
     },
     "output_type": "display_data"
    }
   ],
   "source": [
    "#check correlation between the target variable and the other variables\n",
    "corrmat = train.corr()\n",
    "f, ax = plt.subplots(figsize=(15, 8))\n",
    "sns.heatmap(corrmat-np.eye(corrmat.shape[0]), annot = True, cmap = sns.diverging_palette(220, 10, as_cmap=True))\n",
    "plt.show()"
   ]
  },
  {
   "cell_type": "code",
   "execution_count": 532,
   "id": "6e52300c",
   "metadata": {},
   "outputs": [
    {
     "data": {
      "image/png": "[encoded data removed]",
      "text/plain": [
       "<Figure size 720x648 with 1 Axes>"
      ]
     },
     "metadata": {
      "needs_background": "light"
     },
     "output_type": "display_data"
    }
   ],
   "source": [
    "#get an idea of the locations of the houses\n",
    "it = pd.read_csv(\"it.csv\") #data on the coordinates of italian cities\n",
    "fig, ax = plt.subplots(figsize = ((10,9)))\n",
    "plt.scatter(x = it[\"lng\"], y = it[\"lat\"], alpha= 20/256, s = 1, c = \"g\")\n",
    "plt.scatter(x = data[\"longitude\"], y = data[\"latitude\"], alpha= 20/256, s = 0.2, c=\"r\")\n",
    "plt.grid(False)\n",
    "ax.set_facecolor('white')\n",
    "\n",
    "plt.show()"
   ]
  },
  {
   "cell_type": "markdown",
   "id": "6561f0cf",
   "metadata": {},
   "source": [
    "# Dealing with missing values"
   ]
  },
  {
   "cell_type": "code",
   "execution_count": 533,
   "id": "153ab672",
   "metadata": {},
   "outputs": [
    {
     "data": {
      "text/html": [
       "<div>\n",
       "<style scoped>\n",
       "    .dataframe tbody tr th:only-of-type {\n",
       "        vertical-align: middle;\n",
       "    }\n",
       "\n",
       "    .dataframe tbody tr th {\n",
       "        vertical-align: top;\n",
       "    }\n",
       "\n",
       "    .dataframe thead th {\n",
       "        text-align: right;\n",
       "    }\n",
       "</style>\n",
       "<table border=\"1\" class=\"dataframe\">\n",
       "  <thead>\n",
       "    <tr style=\"text-align: right;\">\n",
       "      <th></th>\n",
       "      <th>Total_tran</th>\n",
       "      <th>Percent_train</th>\n",
       "      <th>Total_test</th>\n",
       "      <th>Percent_test</th>\n",
       "    </tr>\n",
       "  </thead>\n",
       "  <tbody>\n",
       "    <tr>\n",
       "      <th>garden</th>\n",
       "      <td>31529</td>\n",
       "      <td>0.680795</td>\n",
       "      <td>13443.0</td>\n",
       "      <td>0.679351</td>\n",
       "    </tr>\n",
       "    <tr>\n",
       "      <th>energy_efficiency</th>\n",
       "      <td>19903</td>\n",
       "      <td>0.429759</td>\n",
       "      <td>8570.0</td>\n",
       "      <td>0.433091</td>\n",
       "    </tr>\n",
       "    <tr>\n",
       "      <th>total_floors</th>\n",
       "      <td>18349</td>\n",
       "      <td>0.396204</td>\n",
       "      <td>7938.0</td>\n",
       "      <td>0.401152</td>\n",
       "    </tr>\n",
       "    <tr>\n",
       "      <th>elevator</th>\n",
       "      <td>17443</td>\n",
       "      <td>0.376641</td>\n",
       "      <td>7455.0</td>\n",
       "      <td>0.376743</td>\n",
       "    </tr>\n",
       "    <tr>\n",
       "      <th>expenses</th>\n",
       "      <td>16154</td>\n",
       "      <td>0.348808</td>\n",
       "      <td>6971.0</td>\n",
       "      <td>0.352284</td>\n",
       "    </tr>\n",
       "    <tr>\n",
       "      <th>balcony</th>\n",
       "      <td>15443</td>\n",
       "      <td>0.333456</td>\n",
       "      <td>6732.0</td>\n",
       "      <td>0.340206</td>\n",
       "    </tr>\n",
       "    <tr>\n",
       "      <th>construction_year</th>\n",
       "      <td>13946</td>\n",
       "      <td>0.301131</td>\n",
       "      <td>5964.0</td>\n",
       "      <td>0.301395</td>\n",
       "    </tr>\n",
       "    <tr>\n",
       "      <th>n_bathrooms</th>\n",
       "      <td>2416</td>\n",
       "      <td>0.052168</td>\n",
       "      <td>951.0</td>\n",
       "      <td>0.048059</td>\n",
       "    </tr>\n",
       "    <tr>\n",
       "      <th>floor</th>\n",
       "      <td>2031</td>\n",
       "      <td>0.043855</td>\n",
       "      <td>876.0</td>\n",
       "      <td>0.044269</td>\n",
       "    </tr>\n",
       "    <tr>\n",
       "      <th>conditions</th>\n",
       "      <td>1229</td>\n",
       "      <td>0.026537</td>\n",
       "      <td>511.0</td>\n",
       "      <td>0.025824</td>\n",
       "    </tr>\n",
       "    <tr>\n",
       "      <th>surface</th>\n",
       "      <td>443</td>\n",
       "      <td>0.009566</td>\n",
       "      <td>163.0</td>\n",
       "      <td>0.008237</td>\n",
       "    </tr>\n",
       "    <tr>\n",
       "      <th>n_rooms</th>\n",
       "      <td>353</td>\n",
       "      <td>0.007622</td>\n",
       "      <td>141.0</td>\n",
       "      <td>0.007126</td>\n",
       "    </tr>\n",
       "    <tr>\n",
       "      <th>longitude</th>\n",
       "      <td>13</td>\n",
       "      <td>0.000281</td>\n",
       "      <td>10.0</td>\n",
       "      <td>0.000505</td>\n",
       "    </tr>\n",
       "    <tr>\n",
       "      <th>latitude</th>\n",
       "      <td>13</td>\n",
       "      <td>0.000281</td>\n",
       "      <td>10.0</td>\n",
       "      <td>0.000505</td>\n",
       "    </tr>\n",
       "    <tr>\n",
       "      <th>proximity_to_center</th>\n",
       "      <td>13</td>\n",
       "      <td>0.000281</td>\n",
       "      <td>10.0</td>\n",
       "      <td>0.000505</td>\n",
       "    </tr>\n",
       "    <tr>\n",
       "      <th>price</th>\n",
       "      <td>0</td>\n",
       "      <td>0.000000</td>\n",
       "      <td>NaN</td>\n",
       "      <td>NaN</td>\n",
       "    </tr>\n",
       "    <tr>\n",
       "      <th>id</th>\n",
       "      <td>0</td>\n",
       "      <td>0.000000</td>\n",
       "      <td>0.0</td>\n",
       "      <td>0.000000</td>\n",
       "    </tr>\n",
       "  </tbody>\n",
       "</table>\n",
       "</div>"
      ],
      "text/plain": [
       "                     Total_tran  Percent_train  Total_test  Percent_test\n",
       "garden                    31529       0.680795     13443.0      0.679351\n",
       "energy_efficiency         19903       0.429759      8570.0      0.433091\n",
       "total_floors              18349       0.396204      7938.0      0.401152\n",
       "elevator                  17443       0.376641      7455.0      0.376743\n",
       "expenses                  16154       0.348808      6971.0      0.352284\n",
       "balcony                   15443       0.333456      6732.0      0.340206\n",
       "construction_year         13946       0.301131      5964.0      0.301395\n",
       "n_bathrooms                2416       0.052168       951.0      0.048059\n",
       "floor                      2031       0.043855       876.0      0.044269\n",
       "conditions                 1229       0.026537       511.0      0.025824\n",
       "surface                     443       0.009566       163.0      0.008237\n",
       "n_rooms                     353       0.007622       141.0      0.007126\n",
       "longitude                    13       0.000281        10.0      0.000505\n",
       "latitude                     13       0.000281        10.0      0.000505\n",
       "proximity_to_center          13       0.000281        10.0      0.000505\n",
       "price                         0       0.000000         NaN           NaN\n",
       "id                            0       0.000000         0.0      0.000000"
      ]
     },
     "execution_count": 533,
     "metadata": {},
     "output_type": "execute_result"
    }
   ],
   "source": [
    "#missing data\n",
    "total_train = train.isnull().sum().sort_values(ascending=False)\n",
    "percent_train = (train.isnull().sum()/train.isnull().count()).sort_values(ascending=False)\n",
    "total_test = test.isnull().sum().sort_values(ascending = False)\n",
    "percent_test = (test.isnull().sum()/test.isnull().count()).sort_values(ascending=False)\n",
    "missing_data = pd.concat([total_train, percent_train, total_test, percent_test], axis=1, keys=['Total_tran', 'Percent_train', \"Total_test\", \"Percent_test\"])\n",
    "missing_data"
   ]
  },
  {
   "cell_type": "code",
   "execution_count": 534,
   "id": "261e764b",
   "metadata": {},
   "outputs": [
    {
     "data": {
      "text/plain": [
       "<AxesSubplot:>"
      ]
     },
     "execution_count": 534,
     "metadata": {},
     "output_type": "execute_result"
    },
    {
     "data": {
      "image/png": "[encoded data removed]",
      "text/plain": [
       "<Figure size 720x576 with 1 Axes>"
      ]
     },
     "metadata": {
      "needs_background": "light"
     },
     "output_type": "display_data"
    }
   ],
   "source": [
    "#graphically representing where most of the null values are\n",
    "f, ax = plt.subplots(figsize=(10, 8))\n",
    "sns.heatmap(data.isnull(), yticklabels = False, cbar = False)\n"
   ]
  },
  {
   "cell_type": "markdown",
   "id": "4d09e6a8",
   "metadata": {},
   "source": [
    "### 1. Garden"
   ]
  },
  {
   "cell_type": "code",
   "execution_count": 535,
   "id": "5228f5c5",
   "metadata": {},
   "outputs": [
    {
     "name": "stdout",
     "output_type": "stream",
     "text": [
      "The correlation is: \n",
      "           garden     price\n",
      "garden  1.000000 -0.013846\n",
      "price  -0.013846  1.000000\n"
     ]
    }
   ],
   "source": [
    "# I will assume that if we dont have a value for the garden variable, then the house has no garden.\n",
    "train[\"garden\"].fillna(value = False, inplace = True)\n",
    "# compute the correlation \n",
    "print(\"The correlation is: \\n\", train[[\"garden\", \"price\"]].corr())\n",
    "#since the correlation is still very low, i will drop the garden feature\n",
    "train = train.drop(\"garden\", axis = 1)\n",
    "test = test.drop(\"garden\", axis = 1)\n"
   ]
  },
  {
   "cell_type": "markdown",
   "id": "beec1950",
   "metadata": {},
   "source": [
    "### 2. Energy Efficiency"
   ]
  },
  {
   "cell_type": "code",
   "execution_count": 536,
   "id": "dfeea777",
   "metadata": {},
   "outputs": [
    {
     "name": "stdout",
     "output_type": "stream",
     "text": [
      "the correlation is: \n",
      "                    energy_efficiency     price\n",
      "energy_efficiency           1.000000 -0.000757\n",
      "price                      -0.000757  1.000000\n"
     ]
    }
   ],
   "source": [
    "median_imputer = SimpleImputer(strategy = \"median\")\n",
    "# I will replace the nan values with the median and check the correlation\n",
    "train[[\"energy_efficiency\"]] = median_imputer.fit_transform(train[[\"energy_efficiency\"]])\n",
    "#compute the correlation\n",
    "print(\"the correlation is: \\n\", train[[\"energy_efficiency\", \"price\"]].corr())\n",
    "#since the correlation is still very low, i will drop the energy_efficiency feature\n",
    "train = train.drop(\"energy_efficiency\", axis = 1)\n",
    "test = test.drop(\"energy_efficiency\", axis = 1)\n"
   ]
  },
  {
   "cell_type": "markdown",
   "id": "d3b5749a",
   "metadata": {},
   "source": [
    "### 3. Total floors"
   ]
  },
  {
   "cell_type": "code",
   "execution_count": 537,
   "id": "586bc596",
   "metadata": {},
   "outputs": [
    {
     "name": "stdout",
     "output_type": "stream",
     "text": [
      "the correlation is: \n",
      "               total_floors     price\n",
      "total_floors      1.000000 -0.001606\n",
      "price            -0.001606  1.000000\n"
     ]
    }
   ],
   "source": [
    "# I will replace the nan values with the median and check the correlation\n",
    "train[[\"total_floors\"]] = median_imputer.fit_transform(train[[\"total_floors\"]])\n",
    "#compute the correlation\n",
    "print(\"the correlation is: \\n\", train[[\"total_floors\", \"price\"]].corr())\n",
    "#since the correlation is still very low, i will drop the total_floors feature\n",
    "train = train.drop(\"total_floors\", axis = 1)\n",
    "test = test.drop(\"total_floors\", axis = 1)\n"
   ]
  },
  {
   "cell_type": "markdown",
   "id": "dfdc6c0f",
   "metadata": {},
   "source": [
    "### 4. Elevator"
   ]
  },
  {
   "cell_type": "code",
   "execution_count": 538,
   "id": "8601a4ef",
   "metadata": {},
   "outputs": [
    {
     "name": "stdout",
     "output_type": "stream",
     "text": [
      "the correlation is: \n",
      "           elevator     price\n",
      "elevator  1.000000  0.001187\n",
      "price     0.001187  1.000000\n"
     ]
    }
   ],
   "source": [
    "# I will assume that if we dont have a value for the elevator variable, then the house has no elevator.\n",
    "train[\"elevator\"].fillna(value = 0.0, inplace = True)\n",
    "#compute the correlation\n",
    "print(\"the correlation is: \\n\", train[[\"elevator\", \"price\"]].corr())\n",
    "#since the correlation is still very low, i will drop the elevator feature\n",
    "train = train.drop(\"elevator\", axis = 1)\n",
    "test = test.drop(\"elevator\", axis = 1)"
   ]
  },
  {
   "cell_type": "markdown",
   "id": "75fa23fe",
   "metadata": {},
   "source": [
    "### 5. Expenses"
   ]
  },
  {
   "cell_type": "code",
   "execution_count": 539,
   "id": "ad1530ce",
   "metadata": {},
   "outputs": [
    {
     "name": "stdout",
     "output_type": "stream",
     "text": [
      "the correlation is: \n",
      "           expenses     price\n",
      "expenses  1.000000  0.004549\n",
      "price     0.004549  1.000000\n"
     ]
    }
   ],
   "source": [
    "# I will replace the nan values with the median and check the correlation\n",
    "train[[\"expenses\"]] = median_imputer.fit_transform(train[[\"expenses\"]])\n",
    "#compute the correlation\n",
    "print(\"the correlation is: \\n\", train[[\"expenses\", \"price\"]].corr())\n",
    "#since the correlation is still very low, i will drop the expenses feature\n",
    "train = train.drop(\"expenses\", axis = 1)\n",
    "test = test.drop(\"expenses\", axis = 1)"
   ]
  },
  {
   "cell_type": "markdown",
   "id": "21ad01d7",
   "metadata": {},
   "source": [
    "### 6. Balcony"
   ]
  },
  {
   "cell_type": "code",
   "execution_count": 540,
   "id": "60c4a81e",
   "metadata": {},
   "outputs": [
    {
     "name": "stdout",
     "output_type": "stream",
     "text": [
      "The correlation is: \n",
      "          balcony    price\n",
      "balcony  1.00000 -0.00433\n",
      "price   -0.00433  1.00000\n"
     ]
    }
   ],
   "source": [
    "# I will assume that if we dont have a value for the balcony variable, then the house has no balcony.\n",
    "train[\"balcony\"].fillna(value = False, inplace = True)\n",
    "# compute the correlation \n",
    "print(\"The correlation is: \\n\", train[[\"balcony\", \"price\"]].corr())\n",
    "#since the correlation is still very low, i will drop the garden feature\n",
    "train = train.drop(\"balcony\", axis = 1)\n",
    "test = test.drop(\"balcony\", axis = 1)"
   ]
  },
  {
   "cell_type": "markdown",
   "id": "b4bfdc7f",
   "metadata": {},
   "source": [
    "### 7. Conditions"
   ]
  },
  {
   "cell_type": "code",
   "execution_count": 541,
   "id": "8112b41c",
   "metadata": {},
   "outputs": [],
   "source": [
    "# i will first substitute the nan values with a fifth class and then encode the variable\n",
    "train['conditions'] = train['conditions'].fillna(0)\n",
    "train['conditions'] = train['conditions'].replace({'Da ristrutturare': 1, 'Buono stato / Abitabile': 2, 'Nuovo / Nuova costruzione': 3, 'Ottimo / Ristrutturato': 4 })\n",
    "#to the same for the test set\n",
    "test['conditions'] = test['conditions'].fillna(0)\n",
    "test['conditions'] = test['conditions'].replace({'Da ristrutturare': 1, 'Buono stato / Abitabile': 2, 'Nuovo / Nuova costruzione': 3, 'Ottimo / Ristrutturato': 4 })\n"
   ]
  },
  {
   "cell_type": "markdown",
   "id": "8e269c53",
   "metadata": {},
   "source": [
    "### 8. n_bathrooms"
   ]
  },
  {
   "cell_type": "code",
   "execution_count": 542,
   "id": "1e3bdbe2",
   "metadata": {},
   "outputs": [],
   "source": [
    "# the correlation is already strong, i will replace the nan values with the median of the variable in the train set\n",
    "transformer = median_imputer.fit(train[\"n_bathrooms\"].values.reshape(-1,1))\n",
    "train[[\"n_bathrooms\"]] = transformer.transform(train[[\"n_bathrooms\"]])\n",
    "test[[\"n_bathrooms\"]] = transformer.transform(test[[\"n_bathrooms\"]])"
   ]
  },
  {
   "cell_type": "markdown",
   "id": "50c6f2df",
   "metadata": {},
   "source": [
    "### 9. Surface"
   ]
  },
  {
   "cell_type": "code",
   "execution_count": 543,
   "id": "ebfeafdd",
   "metadata": {},
   "outputs": [],
   "source": [
    "# the correlation is already strong, i will replace the nan values with the median of the variable in the train set\n",
    "transformer = median_imputer.fit(train[\"surface\"].values.reshape(-1,1))\n",
    "train[[\"surface\"]] = transformer.transform(train[[\"surface\"]])\n",
    "test[[\"surface\"]] = transformer.transform(test[[\"surface\"]])\n",
    "\n"
   ]
  },
  {
   "cell_type": "markdown",
   "id": "6e34d885",
   "metadata": {},
   "source": [
    "### 10. n_rooms"
   ]
  },
  {
   "cell_type": "code",
   "execution_count": 544,
   "id": "329e82d9",
   "metadata": {},
   "outputs": [],
   "source": [
    "# the correlation is already strong, i will replace the nan values with the median of the variable in the train set\n",
    "transformer = median_imputer.fit(train[\"n_rooms\"].values.reshape(-1,1))\n",
    "train[[\"n_rooms\"]] = transformer.transform(train[[\"n_rooms\"]])\n",
    "test[[\"n_rooms\"]] = transformer.transform(test[[\"n_rooms\"]])"
   ]
  },
  {
   "cell_type": "markdown",
   "id": "a48d74e5",
   "metadata": {},
   "source": [
    "### 11. Longitude"
   ]
  },
  {
   "cell_type": "code",
   "execution_count": 545,
   "id": "e8167c86",
   "metadata": {},
   "outputs": [],
   "source": [
    "#in the train set, i will drop the rows that contain nan values, while in the test set I will impute the median\n",
    "#in order not to lose any row\n",
    "train.dropna(subset=[\"longitude\"], inplace=True)\n",
    "transformer = median_imputer.fit(train[\"longitude\"].values.reshape(-1,1))\n",
    "test[[\"longitude\"]] = transformer.transform(test[[\"longitude\"]])\n"
   ]
  },
  {
   "cell_type": "markdown",
   "id": "dadc6717",
   "metadata": {},
   "source": [
    "### 12. Latitude"
   ]
  },
  {
   "cell_type": "code",
   "execution_count": 546,
   "id": "065037ef",
   "metadata": {},
   "outputs": [],
   "source": [
    "train.dropna(subset=[\"latitude\"], inplace=True)\n",
    "transformer = median_imputer.fit(train[\"latitude\"].values.reshape(-1,1))\n",
    "test[[\"latitude\"]] = transformer.transform(test[[\"latitude\"]])"
   ]
  },
  {
   "cell_type": "markdown",
   "id": "41fb6d24",
   "metadata": {},
   "source": [
    "### 13. Proximity_to_center"
   ]
  },
  {
   "cell_type": "code",
   "execution_count": 547,
   "id": "8fe537c2",
   "metadata": {},
   "outputs": [],
   "source": [
    "#we already removed the nans when dealing with longitude and latitude for the train set\n",
    "train[\"proximity_to_center\"].isna().sum()\n",
    "#impute ones for NaNs in test set\n",
    "test[\"proximity_to_center\"] = test[\"proximity_to_center\"].fillna(1)"
   ]
  },
  {
   "cell_type": "code",
   "execution_count": 548,
   "id": "c502de76",
   "metadata": {},
   "outputs": [
    {
     "data": {
      "text/html": [
       "<div>\n",
       "<style scoped>\n",
       "    .dataframe tbody tr th:only-of-type {\n",
       "        vertical-align: middle;\n",
       "    }\n",
       "\n",
       "    .dataframe tbody tr th {\n",
       "        vertical-align: top;\n",
       "    }\n",
       "\n",
       "    .dataframe thead th {\n",
       "        text-align: right;\n",
       "    }\n",
       "</style>\n",
       "<table border=\"1\" class=\"dataframe\">\n",
       "  <thead>\n",
       "    <tr style=\"text-align: right;\">\n",
       "      <th></th>\n",
       "      <th>id</th>\n",
       "      <th>price</th>\n",
       "      <th>conditions</th>\n",
       "      <th>construction_year</th>\n",
       "      <th>latitude</th>\n",
       "      <th>longitude</th>\n",
       "      <th>floor</th>\n",
       "      <th>n_bathrooms</th>\n",
       "      <th>n_rooms</th>\n",
       "      <th>proximity_to_center</th>\n",
       "      <th>surface</th>\n",
       "    </tr>\n",
       "  </thead>\n",
       "  <tbody>\n",
       "    <tr>\n",
       "      <th>0</th>\n",
       "      <td>10461</td>\n",
       "      <td>60000</td>\n",
       "      <td>2</td>\n",
       "      <td>1980.0</td>\n",
       "      <td>41.901300</td>\n",
       "      <td>12.700000</td>\n",
       "      <td>2.0</td>\n",
       "      <td>1.0</td>\n",
       "      <td>1.0</td>\n",
       "      <td>1.00000</td>\n",
       "      <td>35.0</td>\n",
       "    </tr>\n",
       "    <tr>\n",
       "      <th>1</th>\n",
       "      <td>51304</td>\n",
       "      <td>900000</td>\n",
       "      <td>2</td>\n",
       "      <td>NaN</td>\n",
       "      <td>41.907017</td>\n",
       "      <td>12.481311</td>\n",
       "      <td>3.0</td>\n",
       "      <td>1.0</td>\n",
       "      <td>3.0</td>\n",
       "      <td>1.00000</td>\n",
       "      <td>131.0</td>\n",
       "    </tr>\n",
       "    <tr>\n",
       "      <th>2</th>\n",
       "      <td>33032</td>\n",
       "      <td>33000</td>\n",
       "      <td>2</td>\n",
       "      <td>1960.0</td>\n",
       "      <td>41.976500</td>\n",
       "      <td>12.440500</td>\n",
       "      <td>4.0</td>\n",
       "      <td>1.0</td>\n",
       "      <td>1.0</td>\n",
       "      <td>1.00000</td>\n",
       "      <td>16.0</td>\n",
       "    </tr>\n",
       "    <tr>\n",
       "      <th>3</th>\n",
       "      <td>62281</td>\n",
       "      <td>166000</td>\n",
       "      <td>4</td>\n",
       "      <td>NaN</td>\n",
       "      <td>45.484800</td>\n",
       "      <td>12.198200</td>\n",
       "      <td>1.0</td>\n",
       "      <td>1.0</td>\n",
       "      <td>2.0</td>\n",
       "      <td>0.99205</td>\n",
       "      <td>100.0</td>\n",
       "    </tr>\n",
       "    <tr>\n",
       "      <th>4</th>\n",
       "      <td>45681</td>\n",
       "      <td>410000</td>\n",
       "      <td>2</td>\n",
       "      <td>NaN</td>\n",
       "      <td>45.424480</td>\n",
       "      <td>12.328622</td>\n",
       "      <td>3.0</td>\n",
       "      <td>2.0</td>\n",
       "      <td>3.0</td>\n",
       "      <td>1.00000</td>\n",
       "      <td>90.0</td>\n",
       "    </tr>\n",
       "    <tr>\n",
       "      <th>5</th>\n",
       "      <td>59924</td>\n",
       "      <td>89000</td>\n",
       "      <td>2</td>\n",
       "      <td>NaN</td>\n",
       "      <td>41.874581</td>\n",
       "      <td>12.541382</td>\n",
       "      <td>-1.0</td>\n",
       "      <td>1.0</td>\n",
       "      <td>2.0</td>\n",
       "      <td>1.00000</td>\n",
       "      <td>30.0</td>\n",
       "    </tr>\n",
       "    <tr>\n",
       "      <th>6</th>\n",
       "      <td>36856</td>\n",
       "      <td>632000</td>\n",
       "      <td>2</td>\n",
       "      <td>NaN</td>\n",
       "      <td>41.864600</td>\n",
       "      <td>12.500900</td>\n",
       "      <td>2.0</td>\n",
       "      <td>3.0</td>\n",
       "      <td>4.0</td>\n",
       "      <td>1.00000</td>\n",
       "      <td>91.0</td>\n",
       "    </tr>\n",
       "    <tr>\n",
       "      <th>7</th>\n",
       "      <td>47960</td>\n",
       "      <td>147000</td>\n",
       "      <td>2</td>\n",
       "      <td>1960.0</td>\n",
       "      <td>45.501742</td>\n",
       "      <td>12.254337</td>\n",
       "      <td>-1.0</td>\n",
       "      <td>1.0</td>\n",
       "      <td>5.0</td>\n",
       "      <td>1.00000</td>\n",
       "      <td>107.0</td>\n",
       "    </tr>\n",
       "    <tr>\n",
       "      <th>8</th>\n",
       "      <td>7326</td>\n",
       "      <td>275000</td>\n",
       "      <td>4</td>\n",
       "      <td>1950.0</td>\n",
       "      <td>41.896900</td>\n",
       "      <td>12.519100</td>\n",
       "      <td>6.0</td>\n",
       "      <td>1.0</td>\n",
       "      <td>3.0</td>\n",
       "      <td>1.00000</td>\n",
       "      <td>75.0</td>\n",
       "    </tr>\n",
       "    <tr>\n",
       "      <th>9</th>\n",
       "      <td>44039</td>\n",
       "      <td>459000</td>\n",
       "      <td>4</td>\n",
       "      <td>1995.0</td>\n",
       "      <td>41.906400</td>\n",
       "      <td>12.420300</td>\n",
       "      <td>0.0</td>\n",
       "      <td>3.0</td>\n",
       "      <td>5.0</td>\n",
       "      <td>1.00000</td>\n",
       "      <td>130.0</td>\n",
       "    </tr>\n",
       "    <tr>\n",
       "      <th>10</th>\n",
       "      <td>14881</td>\n",
       "      <td>329000</td>\n",
       "      <td>4</td>\n",
       "      <td>2011.0</td>\n",
       "      <td>41.811100</td>\n",
       "      <td>12.613500</td>\n",
       "      <td>0.0</td>\n",
       "      <td>2.0</td>\n",
       "      <td>4.0</td>\n",
       "      <td>1.00000</td>\n",
       "      <td>129.0</td>\n",
       "    </tr>\n",
       "    <tr>\n",
       "      <th>11</th>\n",
       "      <td>29022</td>\n",
       "      <td>1050000</td>\n",
       "      <td>2</td>\n",
       "      <td>NaN</td>\n",
       "      <td>45.435364</td>\n",
       "      <td>12.324397</td>\n",
       "      <td>2.0</td>\n",
       "      <td>2.0</td>\n",
       "      <td>5.0</td>\n",
       "      <td>1.00000</td>\n",
       "      <td>135.0</td>\n",
       "    </tr>\n",
       "    <tr>\n",
       "      <th>12</th>\n",
       "      <td>1432</td>\n",
       "      <td>150000</td>\n",
       "      <td>2</td>\n",
       "      <td>2000.0</td>\n",
       "      <td>41.881900</td>\n",
       "      <td>12.420171</td>\n",
       "      <td>-1.0</td>\n",
       "      <td>1.0</td>\n",
       "      <td>3.0</td>\n",
       "      <td>1.00000</td>\n",
       "      <td>75.0</td>\n",
       "    </tr>\n",
       "    <tr>\n",
       "      <th>13</th>\n",
       "      <td>31268</td>\n",
       "      <td>369000</td>\n",
       "      <td>1</td>\n",
       "      <td>NaN</td>\n",
       "      <td>41.864103</td>\n",
       "      <td>12.474835</td>\n",
       "      <td>3.0</td>\n",
       "      <td>2.0</td>\n",
       "      <td>4.0</td>\n",
       "      <td>1.00000</td>\n",
       "      <td>124.0</td>\n",
       "    </tr>\n",
       "    <tr>\n",
       "      <th>14</th>\n",
       "      <td>8495</td>\n",
       "      <td>585000</td>\n",
       "      <td>2</td>\n",
       "      <td>NaN</td>\n",
       "      <td>45.435710</td>\n",
       "      <td>12.352213</td>\n",
       "      <td>3.0</td>\n",
       "      <td>2.0</td>\n",
       "      <td>3.0</td>\n",
       "      <td>1.00000</td>\n",
       "      <td>100.0</td>\n",
       "    </tr>\n",
       "    <tr>\n",
       "      <th>15</th>\n",
       "      <td>11678</td>\n",
       "      <td>115000</td>\n",
       "      <td>1</td>\n",
       "      <td>1970.0</td>\n",
       "      <td>41.768700</td>\n",
       "      <td>12.374900</td>\n",
       "      <td>7.0</td>\n",
       "      <td>1.0</td>\n",
       "      <td>2.0</td>\n",
       "      <td>1.00000</td>\n",
       "      <td>55.0</td>\n",
       "    </tr>\n",
       "    <tr>\n",
       "      <th>16</th>\n",
       "      <td>20147</td>\n",
       "      <td>890000</td>\n",
       "      <td>3</td>\n",
       "      <td>NaN</td>\n",
       "      <td>45.455328</td>\n",
       "      <td>9.178874</td>\n",
       "      <td>-1.0</td>\n",
       "      <td>2.0</td>\n",
       "      <td>3.0</td>\n",
       "      <td>1.00000</td>\n",
       "      <td>140.0</td>\n",
       "    </tr>\n",
       "    <tr>\n",
       "      <th>17</th>\n",
       "      <td>19916</td>\n",
       "      <td>375000</td>\n",
       "      <td>1</td>\n",
       "      <td>NaN</td>\n",
       "      <td>45.435700</td>\n",
       "      <td>12.352200</td>\n",
       "      <td>3.0</td>\n",
       "      <td>1.0</td>\n",
       "      <td>3.0</td>\n",
       "      <td>1.00000</td>\n",
       "      <td>80.0</td>\n",
       "    </tr>\n",
       "    <tr>\n",
       "      <th>18</th>\n",
       "      <td>62735</td>\n",
       "      <td>126118</td>\n",
       "      <td>3</td>\n",
       "      <td>2022.0</td>\n",
       "      <td>41.836673</td>\n",
       "      <td>12.605636</td>\n",
       "      <td>3.0</td>\n",
       "      <td>1.0</td>\n",
       "      <td>2.0</td>\n",
       "      <td>1.00000</td>\n",
       "      <td>60.0</td>\n",
       "    </tr>\n",
       "    <tr>\n",
       "      <th>19</th>\n",
       "      <td>24569</td>\n",
       "      <td>185000</td>\n",
       "      <td>3</td>\n",
       "      <td>2010.0</td>\n",
       "      <td>41.910800</td>\n",
       "      <td>12.659500</td>\n",
       "      <td>0.0</td>\n",
       "      <td>1.0</td>\n",
       "      <td>2.0</td>\n",
       "      <td>1.00000</td>\n",
       "      <td>95.0</td>\n",
       "    </tr>\n",
       "  </tbody>\n",
       "</table>\n",
       "</div>"
      ],
      "text/plain": [
       "       id    price  conditions  construction_year   latitude  longitude  \\\n",
       "0   10461    60000           2             1980.0  41.901300  12.700000   \n",
       "1   51304   900000           2                NaN  41.907017  12.481311   \n",
       "2   33032    33000           2             1960.0  41.976500  12.440500   \n",
       "3   62281   166000           4                NaN  45.484800  12.198200   \n",
       "4   45681   410000           2                NaN  45.424480  12.328622   \n",
       "5   59924    89000           2                NaN  41.874581  12.541382   \n",
       "6   36856   632000           2                NaN  41.864600  12.500900   \n",
       "7   47960   147000           2             1960.0  45.501742  12.254337   \n",
       "8    7326   275000           4             1950.0  41.896900  12.519100   \n",
       "9   44039   459000           4             1995.0  41.906400  12.420300   \n",
       "10  14881   329000           4             2011.0  41.811100  12.613500   \n",
       "11  29022  1050000           2                NaN  45.435364  12.324397   \n",
       "12   1432   150000           2             2000.0  41.881900  12.420171   \n",
       "13  31268   369000           1                NaN  41.864103  12.474835   \n",
       "14   8495   585000           2                NaN  45.435710  12.352213   \n",
       "15  11678   115000           1             1970.0  41.768700  12.374900   \n",
       "16  20147   890000           3                NaN  45.455328   9.178874   \n",
       "17  19916   375000           1                NaN  45.435700  12.352200   \n",
       "18  62735   126118           3             2022.0  41.836673  12.605636   \n",
       "19  24569   185000           3             2010.0  41.910800  12.659500   \n",
       "\n",
       "    floor  n_bathrooms  n_rooms  proximity_to_center  surface  \n",
       "0     2.0          1.0      1.0              1.00000     35.0  \n",
       "1     3.0          1.0      3.0              1.00000    131.0  \n",
       "2     4.0          1.0      1.0              1.00000     16.0  \n",
       "3     1.0          1.0      2.0              0.99205    100.0  \n",
       "4     3.0          2.0      3.0              1.00000     90.0  \n",
       "5    -1.0          1.0      2.0              1.00000     30.0  \n",
       "6     2.0          3.0      4.0              1.00000     91.0  \n",
       "7    -1.0          1.0      5.0              1.00000    107.0  \n",
       "8     6.0          1.0      3.0              1.00000     75.0  \n",
       "9     0.0          3.0      5.0              1.00000    130.0  \n",
       "10    0.0          2.0      4.0              1.00000    129.0  \n",
       "11    2.0          2.0      5.0              1.00000    135.0  \n",
       "12   -1.0          1.0      3.0              1.00000     75.0  \n",
       "13    3.0          2.0      4.0              1.00000    124.0  \n",
       "14    3.0          2.0      3.0              1.00000    100.0  \n",
       "15    7.0          1.0      2.0              1.00000     55.0  \n",
       "16   -1.0          2.0      3.0              1.00000    140.0  \n",
       "17    3.0          1.0      3.0              1.00000     80.0  \n",
       "18    3.0          1.0      2.0              1.00000     60.0  \n",
       "19    0.0          1.0      2.0              1.00000     95.0  "
      ]
     },
     "execution_count": 548,
     "metadata": {},
     "output_type": "execute_result"
    }
   ],
   "source": [
    "train.head(20)"
   ]
  },
  {
   "cell_type": "markdown",
   "id": "9f8cbe7b",
   "metadata": {},
   "source": [
    "### 14. Floor"
   ]
  },
  {
   "cell_type": "code",
   "execution_count": 549,
   "id": "c3171215",
   "metadata": {},
   "outputs": [
    {
     "data": {
      "text/plain": [
       "KNNImputer()"
      ]
     },
     "execution_count": 549,
     "metadata": {},
     "output_type": "execute_result"
    }
   ],
   "source": [
    "#the correlation is already considerable. I will replace the NaN values using KNN imputer\n",
    "imputer = KNNImputer(n_neighbors=5)\n",
    "imputer.fit(train.drop('price',axis = 1).loc[:, :])"
   ]
  },
  {
   "cell_type": "code",
   "execution_count": 550,
   "id": "3ef15cac",
   "metadata": {},
   "outputs": [],
   "source": [
    "train[\"floor\"] =  imputer.transform(train.drop('price',axis = 1).loc[:, :])[:,5]\n",
    "train['floor'] = np.round(train['floor'])\n",
    "test[\"floor\"] =  imputer.transform(test.loc[:, :])[:,5]\n",
    "test[\"floor\"] = np.round(test['floor'])"
   ]
  },
  {
   "cell_type": "code",
   "execution_count": 551,
   "id": "841f0873",
   "metadata": {},
   "outputs": [
    {
     "data": {
      "text/plain": [
       " 1.0     10441\n",
       " 2.0      8364\n",
       " 3.0      6353\n",
       " 0.0      5950\n",
       "-1.0      4927\n",
       " 4.0      4384\n",
       " 5.0      2694\n",
       " 6.0      1452\n",
       " 7.0      1058\n",
       " 8.0       419\n",
       " 9.0       115\n",
       " 10.0       37\n",
       "-2.0        29\n",
       " 12.0       19\n",
       " 11.0       14\n",
       " 14.0        9\n",
       "-3.0         8\n",
       " 13.0        8\n",
       " 16.0        4\n",
       " 15.0        4\n",
       " 18.0        2\n",
       " 17.0        2\n",
       " 56.0        1\n",
       " 26.0        1\n",
       "-4.0         1\n",
       " 19.0        1\n",
       "-5.0         1\n",
       " 20.0        1\n",
       "Name: floor, dtype: int64"
      ]
     },
     "execution_count": 551,
     "metadata": {},
     "output_type": "execute_result"
    }
   ],
   "source": [
    "train[\"floor\"].value_counts()"
   ]
  },
  {
   "cell_type": "markdown",
   "id": "1471c7cd",
   "metadata": {},
   "source": [
    "### 15. Construction_year"
   ]
  },
  {
   "cell_type": "code",
   "execution_count": 552,
   "id": "b7a5f597",
   "metadata": {},
   "outputs": [],
   "source": [
    "train[\"construction_year\"] = imputer.transform(train.drop('price',axis = 1).loc[:, :])[:,2]\n",
    "train['construction_year'] = np.round(train['construction_year'])\n",
    "test[\"construction_year\"] = imputer.transform(test.loc[:, :])[:,2]\n",
    "test[\"construction_year\"] = np.round(test[\"construction_year\"])\n"
   ]
  },
  {
   "cell_type": "code",
   "execution_count": 553,
   "id": "3ba35576",
   "metadata": {},
   "outputs": [
    {
     "data": {
      "text/plain": [
       "1960.0    5318\n",
       "1970.0    3898\n",
       "1980.0    1910\n",
       "1950.0    1899\n",
       "1900.0    1434\n",
       "          ... \n",
       "1640.0       1\n",
       "1781.0       1\n",
       "2083.0       1\n",
       "1782.0       1\n",
       "1818.0       1\n",
       "Name: construction_year, Length: 305, dtype: int64"
      ]
     },
     "execution_count": 553,
     "metadata": {},
     "output_type": "execute_result"
    }
   ],
   "source": [
    "train[\"construction_year\"].value_counts()"
   ]
  },
  {
   "cell_type": "markdown",
   "id": "dcbc9a58",
   "metadata": {},
   "source": [
    "### Check the current missing values situation after this data manipulation"
   ]
  },
  {
   "cell_type": "code",
   "execution_count": 554,
   "id": "aa1dae99",
   "metadata": {},
   "outputs": [
    {
     "data": {
      "text/html": [
       "<div>\n",
       "<style scoped>\n",
       "    .dataframe tbody tr th:only-of-type {\n",
       "        vertical-align: middle;\n",
       "    }\n",
       "\n",
       "    .dataframe tbody tr th {\n",
       "        vertical-align: top;\n",
       "    }\n",
       "\n",
       "    .dataframe thead th {\n",
       "        text-align: right;\n",
       "    }\n",
       "</style>\n",
       "<table border=\"1\" class=\"dataframe\">\n",
       "  <thead>\n",
       "    <tr style=\"text-align: right;\">\n",
       "      <th></th>\n",
       "      <th>Total_train</th>\n",
       "      <th>Percent_train</th>\n",
       "      <th>Total_test</th>\n",
       "      <th>Percent_test</th>\n",
       "    </tr>\n",
       "  </thead>\n",
       "  <tbody>\n",
       "    <tr>\n",
       "      <th>id</th>\n",
       "      <td>0</td>\n",
       "      <td>0.0</td>\n",
       "      <td>0.0</td>\n",
       "      <td>0.0</td>\n",
       "    </tr>\n",
       "    <tr>\n",
       "      <th>price</th>\n",
       "      <td>0</td>\n",
       "      <td>0.0</td>\n",
       "      <td>NaN</td>\n",
       "      <td>NaN</td>\n",
       "    </tr>\n",
       "    <tr>\n",
       "      <th>conditions</th>\n",
       "      <td>0</td>\n",
       "      <td>0.0</td>\n",
       "      <td>0.0</td>\n",
       "      <td>0.0</td>\n",
       "    </tr>\n",
       "    <tr>\n",
       "      <th>construction_year</th>\n",
       "      <td>0</td>\n",
       "      <td>0.0</td>\n",
       "      <td>0.0</td>\n",
       "      <td>0.0</td>\n",
       "    </tr>\n",
       "    <tr>\n",
       "      <th>latitude</th>\n",
       "      <td>0</td>\n",
       "      <td>0.0</td>\n",
       "      <td>0.0</td>\n",
       "      <td>0.0</td>\n",
       "    </tr>\n",
       "    <tr>\n",
       "      <th>longitude</th>\n",
       "      <td>0</td>\n",
       "      <td>0.0</td>\n",
       "      <td>0.0</td>\n",
       "      <td>0.0</td>\n",
       "    </tr>\n",
       "    <tr>\n",
       "      <th>floor</th>\n",
       "      <td>0</td>\n",
       "      <td>0.0</td>\n",
       "      <td>0.0</td>\n",
       "      <td>0.0</td>\n",
       "    </tr>\n",
       "    <tr>\n",
       "      <th>n_bathrooms</th>\n",
       "      <td>0</td>\n",
       "      <td>0.0</td>\n",
       "      <td>0.0</td>\n",
       "      <td>0.0</td>\n",
       "    </tr>\n",
       "    <tr>\n",
       "      <th>n_rooms</th>\n",
       "      <td>0</td>\n",
       "      <td>0.0</td>\n",
       "      <td>0.0</td>\n",
       "      <td>0.0</td>\n",
       "    </tr>\n",
       "    <tr>\n",
       "      <th>proximity_to_center</th>\n",
       "      <td>0</td>\n",
       "      <td>0.0</td>\n",
       "      <td>0.0</td>\n",
       "      <td>0.0</td>\n",
       "    </tr>\n",
       "    <tr>\n",
       "      <th>surface</th>\n",
       "      <td>0</td>\n",
       "      <td>0.0</td>\n",
       "      <td>0.0</td>\n",
       "      <td>0.0</td>\n",
       "    </tr>\n",
       "  </tbody>\n",
       "</table>\n",
       "</div>"
      ],
      "text/plain": [
       "                     Total_train  Percent_train  Total_test  Percent_test\n",
       "id                             0            0.0         0.0           0.0\n",
       "price                          0            0.0         NaN           NaN\n",
       "conditions                     0            0.0         0.0           0.0\n",
       "construction_year              0            0.0         0.0           0.0\n",
       "latitude                       0            0.0         0.0           0.0\n",
       "longitude                      0            0.0         0.0           0.0\n",
       "floor                          0            0.0         0.0           0.0\n",
       "n_bathrooms                    0            0.0         0.0           0.0\n",
       "n_rooms                        0            0.0         0.0           0.0\n",
       "proximity_to_center            0            0.0         0.0           0.0\n",
       "surface                        0            0.0         0.0           0.0"
      ]
     },
     "execution_count": 554,
     "metadata": {},
     "output_type": "execute_result"
    }
   ],
   "source": [
    "total_train = train.isnull().sum().sort_values(ascending=False)\n",
    "percent_train = (train.isnull().sum()/train.isnull().count()).sort_values(ascending=False)\n",
    "total_test = test.isnull().sum().sort_values(ascending = False)\n",
    "percent_test = (test.isnull().sum()/test.isnull().count()).sort_values(ascending=False)\n",
    "missing_data = pd.concat([total_train, percent_train, total_test, percent_test], axis=1, keys=['Total_train', 'Percent_train', \"Total_test\", \"Percent_test\"])\n",
    "missing_data"
   ]
  },
  {
   "cell_type": "markdown",
   "id": "f066127c",
   "metadata": {},
   "source": [
    "# Dealing with outliers"
   ]
  },
  {
   "cell_type": "markdown",
   "id": "c38a2493",
   "metadata": {},
   "source": [
    "### Price"
   ]
  },
  {
   "cell_type": "code",
   "execution_count": 555,
   "id": "7bdb795b",
   "metadata": {},
   "outputs": [
    {
     "name": "stderr",
     "output_type": "stream",
     "text": [
      "/opt/anaconda3/lib/python3.9/site-packages/seaborn/_decorators.py:36: FutureWarning: Pass the following variable as a keyword arg: x. From version 0.12, the only valid positional argument will be `data`, and passing other arguments without an explicit keyword will result in an error or misinterpretation.\n",
      "  warnings.warn(\n"
     ]
    },
    {
     "data": {
      "text/plain": [
       "<AxesSubplot:xlabel='price'>"
      ]
     },
     "execution_count": 555,
     "metadata": {},
     "output_type": "execute_result"
    },
    {
     "data": {
      "image/png": "[encoded data removed]",
      "text/plain": [
       "<Figure size 432x288 with 1 Axes>"
      ]
     },
     "metadata": {
      "needs_background": "light"
     },
     "output_type": "display_data"
    }
   ],
   "source": [
    "sns.boxplot(np.log(train[\"price\"]))"
   ]
  },
  {
   "cell_type": "code",
   "execution_count": 556,
   "id": "fece09c9",
   "metadata": {},
   "outputs": [
    {
     "name": "stderr",
     "output_type": "stream",
     "text": [
      "/opt/anaconda3/lib/python3.9/site-packages/seaborn/_decorators.py:36: FutureWarning: Pass the following variable as a keyword arg: x. From version 0.12, the only valid positional argument will be `data`, and passing other arguments without an explicit keyword will result in an error or misinterpretation.\n",
      "  warnings.warn(\n"
     ]
    },
    {
     "data": {
      "text/plain": [
       "<AxesSubplot:xlabel='price'>"
      ]
     },
     "execution_count": 556,
     "metadata": {},
     "output_type": "execute_result"
    },
    {
     "data": {
      "image/png": "[encoded data removed]",
      "text/plain": [
       "<Figure size 432x288 with 1 Axes>"
      ]
     },
     "metadata": {
      "needs_background": "light"
     },
     "output_type": "display_data"
    }
   ],
   "source": [
    "sns.boxplot(train[\"price\"])"
   ]
  },
  {
   "cell_type": "code",
   "execution_count": 557,
   "id": "1e00506a",
   "metadata": {},
   "outputs": [],
   "source": [
    "train = train.loc[train['price'] < 5.1e7]\n",
    "train = train.loc[np.log(train['price']) > 8]"
   ]
  },
  {
   "cell_type": "markdown",
   "id": "568870df",
   "metadata": {},
   "source": [
    "### Construction year"
   ]
  },
  {
   "cell_type": "code",
   "execution_count": 558,
   "id": "9681c9ee",
   "metadata": {},
   "outputs": [
    {
     "name": "stderr",
     "output_type": "stream",
     "text": [
      "/opt/anaconda3/lib/python3.9/site-packages/seaborn/_decorators.py:36: FutureWarning: Pass the following variable as a keyword arg: x. From version 0.12, the only valid positional argument will be `data`, and passing other arguments without an explicit keyword will result in an error or misinterpretation.\n",
      "  warnings.warn(\n"
     ]
    },
    {
     "data": {
      "text/plain": [
       "<AxesSubplot:xlabel='construction_year'>"
      ]
     },
     "execution_count": 558,
     "metadata": {},
     "output_type": "execute_result"
    },
    {
     "data": {
      "image/png": "[encoded data removed]",
      "text/plain": [
       "<Figure size 432x288 with 1 Axes>"
      ]
     },
     "metadata": {
      "needs_background": "light"
     },
     "output_type": "display_data"
    }
   ],
   "source": [
    "sns.boxplot(train[\"construction_year\"])"
   ]
  },
  {
   "cell_type": "code",
   "execution_count": 559,
   "id": "59a82d17",
   "metadata": {},
   "outputs": [],
   "source": [
    "train = train.loc[train['construction_year'] < 2200]"
   ]
  },
  {
   "cell_type": "code",
   "execution_count": 560,
   "id": "37fe087d",
   "metadata": {},
   "outputs": [
    {
     "name": "stderr",
     "output_type": "stream",
     "text": [
      "/opt/anaconda3/lib/python3.9/site-packages/seaborn/_decorators.py:36: FutureWarning: Pass the following variable as a keyword arg: x. From version 0.12, the only valid positional argument will be `data`, and passing other arguments without an explicit keyword will result in an error or misinterpretation.\n",
      "  warnings.warn(\n"
     ]
    },
    {
     "data": {
      "text/plain": [
       "<AxesSubplot:xlabel='construction_year'>"
      ]
     },
     "execution_count": 560,
     "metadata": {},
     "output_type": "execute_result"
    },
    {
     "data": {
      "image/png": "[encoded data removed]",
      "text/plain": [
       "<Figure size 432x288 with 1 Axes>"
      ]
     },
     "metadata": {
      "needs_background": "light"
     },
     "output_type": "display_data"
    }
   ],
   "source": [
    "sns.boxplot(train[\"construction_year\"])"
   ]
  },
  {
   "cell_type": "markdown",
   "id": "2071fdea",
   "metadata": {},
   "source": [
    "# Feature engineering"
   ]
  },
  {
   "cell_type": "code",
   "execution_count": 561,
   "id": "bd1837d9",
   "metadata": {},
   "outputs": [
    {
     "data": {
      "text/plain": [
       "{'Milano': (45.4641943, 9.1896346),\n",
       " 'Roma': (41.8933203, 12.4829321),\n",
       " 'Venezia': (45.4371908, 12.3345898)}"
      ]
     },
     "execution_count": 561,
     "metadata": {},
     "output_type": "execute_result"
    }
   ],
   "source": [
    "#create a variable that indicates whether the city is in the area of Milan, Rome or Venice \n",
    "# get the coordinates of these 3 cities\n",
    "cities = [\"Milano\", \"Roma\", \"Venezia\"]\n",
    "from geopy.geocoders import Nominatim\n",
    "geolocator = Nominatim(user_agent=\"my_app\")\n",
    "city_dict = {}\n",
    "for i in cities:\n",
    "    location = geolocator.geocode(i)\n",
    "    city_dict[i]= (location.latitude, location.longitude)\n",
    "    \n",
    "city_dict"
   ]
  },
  {
   "cell_type": "code",
   "execution_count": 562,
   "id": "a9b225f6",
   "metadata": {},
   "outputs": [],
   "source": [
    "# create a function that calculates the distance between two points \n",
    "from math import radians, sin, cos, sqrt, atan2\n",
    "def distance(lat1, lon1, lat2, lon2):\n",
    "    # approximate radius of Earth in km\n",
    "    R = 6373.0\n",
    "\n",
    "    # convert decimal degrees to radians\n",
    "    lat1_rad = radians(lat1)\n",
    "    lon1_rad = radians(lon1)\n",
    "    lat2_rad = radians(lat2)\n",
    "    lon2_rad = radians(lon2)\n",
    "\n",
    "    # calculate the differences between the latitudes and longitudes\n",
    "    dlat = lat2_rad - lat1_rad\n",
    "    dlon = lon2_rad - lon1_rad\n",
    "\n",
    "    # apply the Haversine formula\n",
    "    a = sin(dlat / 2)**2 + cos(lat1_rad) * cos(lat2_rad) * sin(dlon / 2)**2\n",
    "    c = 2 * atan2(sqrt(a), sqrt(1 - a))\n",
    "    distance_km = (R * c) \n",
    "\n",
    "    return distance_km \n"
   ]
  },
  {
   "cell_type": "code",
   "execution_count": 563,
   "id": "3ebec637",
   "metadata": {},
   "outputs": [],
   "source": [
    "#assign a city label to each observation of the dataset\n",
    "threshold = 40  # set the threshold for the distance in kilometers\n",
    "coords_list_train = list(zip(train['latitude'], train['longitude']))\n",
    "coords_list_test = list(zip(test['latitude'], test['longitude']))\n",
    "\n",
    "def assign_city(coords_list, city_dict, threshold):\n",
    "    result = []\n",
    "    for coords in coords_list:\n",
    "        for city_label, city_coords in city_dict.items():\n",
    "            dist = distance(coords[0], coords[1], city_coords[0], city_coords[1])\n",
    "            if dist <= threshold:\n",
    "                result.append(city_label)\n",
    "                break\n",
    "        else:\n",
    "            result.append(None)\n",
    "    return result\n",
    "\n",
    "# assign the label to the observation both for the train and the test set\n",
    "train[\"city\"] = assign_city(coords_list_train, city_dict, threshold)\n",
    "test[\"city\"] = assign_city(coords_list_test, city_dict, threshold)\n",
    "#transform it into a dummy variable\n",
    "train = pd.get_dummies(train)\n",
    "test = pd.get_dummies(test)"
   ]
  },
  {
   "cell_type": "code",
   "execution_count": 564,
   "id": "98012655",
   "metadata": {},
   "outputs": [],
   "source": [
    "#create a variable that calculates the distance of each house from the center of the city\n",
    "#piazza del duomo milano\n",
    "milan_center_lat = 45.464098\n",
    "milan_center_lon = 9.191926\n",
    "#piazza di spagna roma\n",
    "rome_center_lat = 41.905386\n",
    "rome_center_lon = 12.482542\n",
    "#piazza san marco venezia\n",
    "venice_center_lat = 45.433635\n",
    "venice_center_lon = 12.337164"
   ]
  },
  {
   "cell_type": "code",
   "execution_count": 565,
   "id": "a0986daf",
   "metadata": {},
   "outputs": [],
   "source": [
    "#calculate the distance and assign it to the row\n",
    "train['distance_to_center'] = train.apply(lambda row: distance(row['latitude'], row['longitude'], milan_center_lat, milan_center_lon) if row['city_Milano'] == 1 else (\n",
    "    distance(row['latitude'], row['longitude'], rome_center_lat, rome_center_lon) if row['city_Roma'] == 1 else (\n",
    "    distance(row['latitude'], row['longitude'], venice_center_lat, venice_center_lon)  if row['city_Venezia'] == 1 else None)), axis=1)\n"
   ]
  },
  {
   "cell_type": "code",
   "execution_count": 566,
   "id": "035d8fe0",
   "metadata": {},
   "outputs": [],
   "source": [
    "#to the same for the test set\n",
    "test['distance_to_center'] = test.apply(lambda row: distance(row['latitude'], row['longitude'], milan_center_lat, milan_center_lon) if row['city_Milano'] == 1 else (\n",
    "    distance(row['latitude'], row['longitude'], rome_center_lat, rome_center_lon)  if row['city_Roma'] == 1 else (\n",
    "    distance(row['latitude'], row['longitude'], venice_center_lat, venice_center_lon)  if row['city_Venezia'] == 1 else None)), axis=1)"
   ]
  },
  {
   "cell_type": "code",
   "execution_count": 567,
   "id": "999516ad",
   "metadata": {},
   "outputs": [
    {
     "data": {
      "text/html": [
       "<div>\n",
       "<style scoped>\n",
       "    .dataframe tbody tr th:only-of-type {\n",
       "        vertical-align: middle;\n",
       "    }\n",
       "\n",
       "    .dataframe tbody tr th {\n",
       "        vertical-align: top;\n",
       "    }\n",
       "\n",
       "    .dataframe thead th {\n",
       "        text-align: right;\n",
       "    }\n",
       "</style>\n",
       "<table border=\"1\" class=\"dataframe\">\n",
       "  <thead>\n",
       "    <tr style=\"text-align: right;\">\n",
       "      <th></th>\n",
       "      <th>id</th>\n",
       "      <th>price</th>\n",
       "      <th>conditions</th>\n",
       "      <th>construction_year</th>\n",
       "      <th>latitude</th>\n",
       "      <th>longitude</th>\n",
       "      <th>floor</th>\n",
       "      <th>n_bathrooms</th>\n",
       "      <th>n_rooms</th>\n",
       "      <th>proximity_to_center</th>\n",
       "      <th>surface</th>\n",
       "      <th>city_Milano</th>\n",
       "      <th>city_Roma</th>\n",
       "      <th>city_Venezia</th>\n",
       "      <th>distance_to_center</th>\n",
       "    </tr>\n",
       "  </thead>\n",
       "  <tbody>\n",
       "    <tr>\n",
       "      <th>0</th>\n",
       "      <td>10461</td>\n",
       "      <td>60000</td>\n",
       "      <td>2</td>\n",
       "      <td>1980.0</td>\n",
       "      <td>41.901300</td>\n",
       "      <td>12.700000</td>\n",
       "      <td>2.0</td>\n",
       "      <td>1.0</td>\n",
       "      <td>1.0</td>\n",
       "      <td>1.00000</td>\n",
       "      <td>35.0</td>\n",
       "      <td>0</td>\n",
       "      <td>1</td>\n",
       "      <td>0</td>\n",
       "      <td>18.008060</td>\n",
       "    </tr>\n",
       "    <tr>\n",
       "      <th>1</th>\n",
       "      <td>51304</td>\n",
       "      <td>900000</td>\n",
       "      <td>2</td>\n",
       "      <td>1988.0</td>\n",
       "      <td>41.907017</td>\n",
       "      <td>12.481311</td>\n",
       "      <td>3.0</td>\n",
       "      <td>1.0</td>\n",
       "      <td>3.0</td>\n",
       "      <td>1.00000</td>\n",
       "      <td>131.0</td>\n",
       "      <td>0</td>\n",
       "      <td>1</td>\n",
       "      <td>0</td>\n",
       "      <td>0.208091</td>\n",
       "    </tr>\n",
       "    <tr>\n",
       "      <th>2</th>\n",
       "      <td>33032</td>\n",
       "      <td>33000</td>\n",
       "      <td>2</td>\n",
       "      <td>1960.0</td>\n",
       "      <td>41.976500</td>\n",
       "      <td>12.440500</td>\n",
       "      <td>4.0</td>\n",
       "      <td>1.0</td>\n",
       "      <td>1.0</td>\n",
       "      <td>1.00000</td>\n",
       "      <td>16.0</td>\n",
       "      <td>0</td>\n",
       "      <td>1</td>\n",
       "      <td>0</td>\n",
       "      <td>8.641030</td>\n",
       "    </tr>\n",
       "    <tr>\n",
       "      <th>3</th>\n",
       "      <td>62281</td>\n",
       "      <td>166000</td>\n",
       "      <td>4</td>\n",
       "      <td>1950.0</td>\n",
       "      <td>45.484800</td>\n",
       "      <td>12.198200</td>\n",
       "      <td>1.0</td>\n",
       "      <td>1.0</td>\n",
       "      <td>2.0</td>\n",
       "      <td>0.99205</td>\n",
       "      <td>100.0</td>\n",
       "      <td>0</td>\n",
       "      <td>0</td>\n",
       "      <td>1</td>\n",
       "      <td>12.244672</td>\n",
       "    </tr>\n",
       "    <tr>\n",
       "      <th>4</th>\n",
       "      <td>45681</td>\n",
       "      <td>410000</td>\n",
       "      <td>2</td>\n",
       "      <td>1976.0</td>\n",
       "      <td>45.424480</td>\n",
       "      <td>12.328622</td>\n",
       "      <td>3.0</td>\n",
       "      <td>2.0</td>\n",
       "      <td>3.0</td>\n",
       "      <td>1.00000</td>\n",
       "      <td>90.0</td>\n",
       "      <td>0</td>\n",
       "      <td>0</td>\n",
       "      <td>1</td>\n",
       "      <td>1.217213</td>\n",
       "    </tr>\n",
       "  </tbody>\n",
       "</table>\n",
       "</div>"
      ],
      "text/plain": [
       "      id   price  conditions  construction_year   latitude  longitude  floor  \\\n",
       "0  10461   60000           2             1980.0  41.901300  12.700000    2.0   \n",
       "1  51304  900000           2             1988.0  41.907017  12.481311    3.0   \n",
       "2  33032   33000           2             1960.0  41.976500  12.440500    4.0   \n",
       "3  62281  166000           4             1950.0  45.484800  12.198200    1.0   \n",
       "4  45681  410000           2             1976.0  45.424480  12.328622    3.0   \n",
       "\n",
       "   n_bathrooms  n_rooms  proximity_to_center  surface  city_Milano  city_Roma  \\\n",
       "0          1.0      1.0              1.00000     35.0            0          1   \n",
       "1          1.0      3.0              1.00000    131.0            0          1   \n",
       "2          1.0      1.0              1.00000     16.0            0          1   \n",
       "3          1.0      2.0              0.99205    100.0            0          0   \n",
       "4          2.0      3.0              1.00000     90.0            0          0   \n",
       "\n",
       "   city_Venezia  distance_to_center  \n",
       "0             0           18.008060  \n",
       "1             0            0.208091  \n",
       "2             0            8.641030  \n",
       "3             1           12.244672  \n",
       "4             1            1.217213  "
      ]
     },
     "execution_count": 567,
     "metadata": {},
     "output_type": "execute_result"
    }
   ],
   "source": [
    "train.head()"
   ]
  },
  {
   "cell_type": "code",
   "execution_count": 568,
   "id": "8a4215f2",
   "metadata": {},
   "outputs": [],
   "source": [
    "# use clustering to divide the houses in different neighborhoods\n",
    "#Milan\n",
    "Milan_train = train[train[\"city_Milano\"] == 1] #get the df of houses in Milan's area\n",
    "pos = Milan_train[['longitude','latitude']]\n",
    "kmeans = KMeans(n_clusters=14, random_state = 31) # cluster  the houses in neighbourhoods using KMeans\n",
    "kmeans.fit(pos)\n",
    "clusters = kmeans.predict(pos)\n",
    "\n",
    "train['neighborhood'] = np.zeros(len(train))\n",
    "train.loc[train['city_Milano']== 1 , 'neighborhood'] = clusters\n",
    "\n",
    "#test set\n",
    "Milan_test = test[test[\"city_Milano\"] == 1]\n",
    "pos = Milan_test[['longitude','latitude']]\n",
    "clusters = kmeans.predict(pos)\n",
    "test['neighborhood'] = np.zeros(len(test))\n",
    "test.loc[test['city_Milano']== 1 , 'neighborhood'] = clusters\n"
   ]
  },
  {
   "cell_type": "code",
   "execution_count": 569,
   "id": "3f86e1cd",
   "metadata": {},
   "outputs": [],
   "source": [
    "#Rome\n",
    "Rome_train = train[train[\"city_Roma\"] == 1] #get the df of houses in the Rome area\n",
    "pos = Rome_train[['longitude','latitude']]\n",
    "kmeans = KMeans(n_clusters= 25, random_state = 31) # cluster  the houses in neighbourhoods using KMeans\n",
    "kmeans.fit(pos)\n",
    "clusters = kmeans.predict(pos) + 14\n",
    "\n",
    "train.loc[train['city_Roma']== 1 , 'neighborhood'] = clusters \n",
    "\n",
    "#test set\n",
    "Rome_test = test[test[\"city_Roma\"] == 1]\n",
    "pos = Rome_test[['longitude','latitude']]\n",
    "clusters = kmeans.predict(pos) + 14\n",
    "test.loc[test['city_Roma']== 1 , 'neighborhood'] = clusters "
   ]
  },
  {
   "cell_type": "code",
   "execution_count": 570,
   "id": "beed1206",
   "metadata": {},
   "outputs": [],
   "source": [
    "#Venice\n",
    "Venice_train = train[train[\"city_Venezia\"] == 1] #get the df of houses in the Venice area\n",
    "pos = Venice_train[['longitude','latitude']]\n",
    "kmeans = KMeans(n_clusters=8, random_state = 31) # cluster  the houses in neighbourhoods using KMeans\n",
    "kmeans.fit(pos)\n",
    "clusters = kmeans.predict(pos) + 14 + 25\n",
    "\n",
    "train.loc[train['city_Venezia']== 1 , 'neighborhood'] = clusters \n",
    "\n",
    "#test set\n",
    "Venice_test = test[test[\"city_Venezia\"] == 1]\n",
    "pos = Venice_test[['longitude','latitude']]\n",
    "clusters = kmeans.predict(pos) + 14 + 25\n",
    "test.loc[test['city_Venezia']== 1 , 'neighborhood'] = clusters "
   ]
  },
  {
   "cell_type": "code",
   "execution_count": 571,
   "id": "025dbb46",
   "metadata": {
    "scrolled": true
   },
   "outputs": [
    {
     "data": {
      "image/png": "[encoded data removed]",
      "text/plain": [
       "<Figure size 1080x576 with 2 Axes>"
      ]
     },
     "metadata": {
      "needs_background": "light"
     },
     "output_type": "display_data"
    }
   ],
   "source": [
    "#check correlation between the target variable and the other variables after data manipulation\n",
    "corrmat = train.corr()\n",
    "f, ax = plt.subplots(figsize=(15, 8))\n",
    "sns.heatmap(corrmat-np.eye(corrmat.shape[0]), annot = True, cmap = sns.diverging_palette(220, 10, as_cmap=True))\n",
    "plt.show()"
   ]
  },
  {
   "cell_type": "code",
   "execution_count": 572,
   "id": "4939c705",
   "metadata": {},
   "outputs": [],
   "source": [
    "#dropping the id column as it has no relationship with the price of the house\n",
    "train = train.drop(\"id\", axis = 1)\n",
    "test_no_id = test.drop(\"id\", axis = 1)"
   ]
  },
  {
   "cell_type": "markdown",
   "id": "a782d34c",
   "metadata": {},
   "source": [
    "# Modeling"
   ]
  },
  {
   "cell_type": "code",
   "execution_count": 573,
   "id": "fe5d8de2",
   "metadata": {},
   "outputs": [],
   "source": [
    "X = train.drop(\"price\", axis = 1)\n",
    "y = train[\"price\"]\n",
    "\n",
    "X_train, X_test, y_train, y_test = train_test_split(X, y, test_size=0.2, random_state = 27) # Split train data to test models"
   ]
  },
  {
   "cell_type": "markdown",
   "id": "905ef78f",
   "metadata": {},
   "source": [
    "### Linear regression"
   ]
  },
  {
   "cell_type": "code",
   "execution_count": 574,
   "id": "f8f17e16",
   "metadata": {},
   "outputs": [
    {
     "data": {
      "text/plain": [
       "distance_to_center    -0.173587\n",
       "construction_year     -0.107355\n",
       "longitude             -0.065619\n",
       "city_Roma             -0.044924\n",
       "neighborhood          -0.028421\n",
       "city_Venezia          -0.021683\n",
       "conditions             0.012291\n",
       "floor                  0.024351\n",
       "proximity_to_center    0.033989\n",
       "latitude               0.045888\n",
       "city_Milano            0.065819\n",
       "n_bathrooms            0.180537\n",
       "n_rooms                0.206145\n",
       "surface                0.393366\n",
       "price                  1.000000\n",
       "Name: price, dtype: float64"
      ]
     },
     "execution_count": 574,
     "metadata": {},
     "output_type": "execute_result"
    }
   ],
   "source": [
    "train.corr()['price'].sort_values()"
   ]
  },
  {
   "cell_type": "code",
   "execution_count": 575,
   "id": "e5828b99",
   "metadata": {},
   "outputs": [],
   "source": [
    "linreg = LinearRegression()"
   ]
  },
  {
   "cell_type": "code",
   "execution_count": 576,
   "id": "f02b6e64",
   "metadata": {},
   "outputs": [
    {
     "name": "stdout",
     "output_type": "stream",
     "text": [
      "Mean squared error: 5.5302e+11\n",
      "R-squared:  0.2739769588197297\n"
     ]
    }
   ],
   "source": [
    "linreg.fit(X[[\"distance_to_center\", \"construction_year\", \"n_rooms\", \"n_bathrooms\", \"surface\"]], y)\n",
    "y_pred = linreg.predict(X_test[[\"distance_to_center\", \"construction_year\", \"n_rooms\", \"n_bathrooms\", \"surface\"]])\n",
    "\n",
    "mse = mean_squared_error(y_test, y_pred)\n",
    "r2 = r2_score(y_test, y_pred)\n",
    "\n",
    "print(f\"Mean squared error: {mse:0.5}\")\n",
    "print(\"R-squared: \", r2)"
   ]
  },
  {
   "cell_type": "markdown",
   "id": "aef83cd8",
   "metadata": {},
   "source": [
    "### KNN regression"
   ]
  },
  {
   "cell_type": "code",
   "execution_count": null,
   "id": "d8a1e4b8",
   "metadata": {},
   "outputs": [],
   "source": []
  },
  {
   "cell_type": "markdown",
   "id": "e9f9f3bb",
   "metadata": {},
   "source": [
    "### Random forest"
   ]
  },
  {
   "cell_type": "code",
   "execution_count": 577,
   "id": "938e761d",
   "metadata": {},
   "outputs": [
    {
     "name": "stdout",
     "output_type": "stream",
     "text": [
      "Mean squared error: 4.4512e+11\n",
      "R-squared:  0.41563111502879513\n"
     ]
    }
   ],
   "source": [
    "rfr = RandomForestRegressor(n_estimators=300)\n",
    "rfr.fit(X_train, y_train)\n",
    "\n",
    "y_pred = rfr.predict(X_test)\n",
    "\n",
    "mse = mean_squared_error(y_test, y_pred)\n",
    "r2 = r2_score(y_test, y_pred)\n",
    "\n",
    "print(f\"Mean squared error: {mse:0.5}\")\n",
    "print(\"R-squared: \", r2)"
   ]
  },
  {
   "cell_type": "code",
   "execution_count": 578,
   "id": "88510194",
   "metadata": {},
   "outputs": [
    {
     "name": "stdout",
     "output_type": "stream",
     "text": [
      "Feature ranking:\n",
      "1. Feature surface: importance 0.34083621963405114\n",
      "2. Feature distance_to_center: importance 0.2776220067143356\n",
      "3. Feature longitude: importance 0.08417549372779341\n",
      "4. Feature latitude: importance 0.07856372848485127\n",
      "5. Feature construction_year: importance 0.06179703953269196\n",
      "6. Feature conditions: importance 0.03801565074550794\n",
      "7. Feature floor: importance 0.03695943512930227\n",
      "8. Feature neighborhood: importance 0.03302845632759116\n",
      "9. Feature n_rooms: importance 0.028707846524634952\n",
      "10. Feature n_bathrooms: importance 0.01009700569229768\n",
      "11. Feature city_Venezia: importance 0.0038757433387150296\n",
      "12. Feature city_Milano: importance 0.002692941620034534\n",
      "13. Feature city_Roma: importance 0.0018996712639116249\n",
      "14. Feature proximity_to_center: importance 0.0017287612642814872\n"
     ]
    }
   ],
   "source": [
    "# Get the feature importances\n",
    "importances = rfr.feature_importances_\n",
    "\n",
    "# Sort the importances in descending order\n",
    "indices = np.argsort(importances)[::-1]\n",
    "\n",
    "# Print the feature ranking\n",
    "print(\"Feature ranking:\")\n",
    "for i, index in enumerate(indices):\n",
    "    print(f\"{i + 1}. Feature {X_train.columns[index]}: importance {importances[index]}\")"
   ]
  },
  {
   "cell_type": "code",
   "execution_count": 579,
   "id": "50c62ff4",
   "metadata": {},
   "outputs": [
    {
     "data": {
      "text/plain": [
       "RandomForestRegressor(n_estimators=300)"
      ]
     },
     "execution_count": 579,
     "metadata": {},
     "output_type": "execute_result"
    }
   ],
   "source": [
    "# retrain the model on the whole dataset\n",
    "X_train = train.drop(\"price\", axis = 1)\n",
    "y_train = train[\"price\"]\n",
    "rf = RandomForestRegressor(n_estimators=300)\n",
    "rf.fit(X_train, y_train)"
   ]
  },
  {
   "cell_type": "code",
   "execution_count": 581,
   "id": "fd498279",
   "metadata": {},
   "outputs": [
    {
     "data": {
      "text/html": [
       "<div>\n",
       "<style scoped>\n",
       "    .dataframe tbody tr th:only-of-type {\n",
       "        vertical-align: middle;\n",
       "    }\n",
       "\n",
       "    .dataframe tbody tr th {\n",
       "        vertical-align: top;\n",
       "    }\n",
       "\n",
       "    .dataframe thead th {\n",
       "        text-align: right;\n",
       "    }\n",
       "</style>\n",
       "<table border=\"1\" class=\"dataframe\">\n",
       "  <thead>\n",
       "    <tr style=\"text-align: right;\">\n",
       "      <th></th>\n",
       "      <th>id</th>\n",
       "      <th>price</th>\n",
       "    </tr>\n",
       "  </thead>\n",
       "  <tbody>\n",
       "    <tr>\n",
       "      <th>0</th>\n",
       "      <td>18825</td>\n",
       "      <td>1.566733e+05</td>\n",
       "    </tr>\n",
       "    <tr>\n",
       "      <th>1</th>\n",
       "      <td>30956</td>\n",
       "      <td>2.435433e+05</td>\n",
       "    </tr>\n",
       "    <tr>\n",
       "      <th>2</th>\n",
       "      <td>47193</td>\n",
       "      <td>1.131507e+06</td>\n",
       "    </tr>\n",
       "    <tr>\n",
       "      <th>3</th>\n",
       "      <td>27799</td>\n",
       "      <td>1.669411e+05</td>\n",
       "    </tr>\n",
       "    <tr>\n",
       "      <th>4</th>\n",
       "      <td>22259</td>\n",
       "      <td>1.914070e+05</td>\n",
       "    </tr>\n",
       "    <tr>\n",
       "      <th>...</th>\n",
       "      <td>...</td>\n",
       "      <td>...</td>\n",
       "    </tr>\n",
       "    <tr>\n",
       "      <th>19783</th>\n",
       "      <td>22961</td>\n",
       "      <td>6.028017e+05</td>\n",
       "    </tr>\n",
       "    <tr>\n",
       "      <th>19784</th>\n",
       "      <td>4606</td>\n",
       "      <td>5.551751e+05</td>\n",
       "    </tr>\n",
       "    <tr>\n",
       "      <th>19785</th>\n",
       "      <td>6106</td>\n",
       "      <td>2.505466e+05</td>\n",
       "    </tr>\n",
       "    <tr>\n",
       "      <th>19786</th>\n",
       "      <td>35370</td>\n",
       "      <td>1.311600e+05</td>\n",
       "    </tr>\n",
       "    <tr>\n",
       "      <th>19787</th>\n",
       "      <td>24890</td>\n",
       "      <td>1.844490e+05</td>\n",
       "    </tr>\n",
       "  </tbody>\n",
       "</table>\n",
       "<p>19788 rows × 2 columns</p>\n",
       "</div>"
      ],
      "text/plain": [
       "          id         price\n",
       "0      18825  1.566733e+05\n",
       "1      30956  2.435433e+05\n",
       "2      47193  1.131507e+06\n",
       "3      27799  1.669411e+05\n",
       "4      22259  1.914070e+05\n",
       "...      ...           ...\n",
       "19783  22961  6.028017e+05\n",
       "19784   4606  5.551751e+05\n",
       "19785   6106  2.505466e+05\n",
       "19786  35370  1.311600e+05\n",
       "19787  24890  1.844490e+05\n",
       "\n",
       "[19788 rows x 2 columns]"
      ]
     },
     "execution_count": 581,
     "metadata": {},
     "output_type": "execute_result"
    }
   ],
   "source": [
    "#apply the model on the test_set\n",
    "final_pred = rf.predict(test_no_id)\n",
    "final_submission = pd.DataFrame({'id': test['id'], 'price': final_pred})\n",
    "final_submission"
   ]
  },
  {
   "cell_type": "code",
   "execution_count": 582,
   "id": "b9be09f0",
   "metadata": {},
   "outputs": [],
   "source": [
    "final_submission.to_csv(\"/Users/isaachasbani/Desktop/ML challenge/submission\", index = False)"
   ]
  },
  {
   "cell_type": "code",
   "execution_count": null,
   "id": "bba5c657",
   "metadata": {},
   "outputs": [],
   "source": []
  }
 ],
 "metadata": {
  "kernelspec": {
   "display_name": "Python 3 (ipykernel)",
   "language": "python",
   "name": "python3"
  },
  "language_info": {
   "codemirror_mode": {
    "name": "ipython",
    "version": 3
   },
   "file_extension": ".py",
   "mimetype": "text/x-python",
   "name": "python",
   "nbconvert_exporter": "python",
   "pygments_lexer": "ipython3",
   "version": "3.9.7"
  }
 },
 "nbformat": 4,
 "nbformat_minor": 5
}
